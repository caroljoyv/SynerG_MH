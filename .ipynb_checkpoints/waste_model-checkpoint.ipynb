{
 "cells": [
  {
   "cell_type": "markdown",
   "id": "cd9f2d0d",
   "metadata": {},
   "source": [
    "# K Nearest Neighbours"
   ]
  },
  {
   "cell_type": "code",
   "execution_count": 1,
   "id": "09bf6e3f",
   "metadata": {},
   "outputs": [],
   "source": [
    "import pandas as pd\n",
    "from sklearn.model_selection import train_test_split\n",
    "from sklearn.preprocessing import StandardScaler\n",
    "from sklearn.neighbors import KNeighborsClassifier\n",
    "from sklearn.metrics import classification_report\n",
    "\n",
    "data = pd.read_csv(\"datas_waste.csv\")\n"
   ]
  },
  {
   "cell_type": "code",
   "execution_count": 2,
   "id": "6caab109",
   "metadata": {},
   "outputs": [],
   "source": [
    "X = data[[\"By-Product\", \"Similarity\"]]\n",
    "y = data[[\"Raw Material\", \"Company\"]]\n"
   ]
  },
  {
   "cell_type": "code",
   "execution_count": 3,
   "id": "2c0ea68f",
   "metadata": {},
   "outputs": [],
   "source": [
    "X_encoded = pd.get_dummies(X, columns=[\"By-Product\"])\n",
    "scaler = StandardScaler()\n",
    "X_encoded[\"Similarity\"] = scaler.fit_transform(X[\"Similarity\"].values.reshape(-1, 1))\n",
    "\n",
    "y_encoded = pd.get_dummies(y, columns=[\"Raw Material\",\"Company\"])"
   ]
  },
  {
   "cell_type": "code",
   "execution_count": 4,
   "id": "a6d5cb78",
   "metadata": {},
   "outputs": [],
   "source": [
    "X_train, X_test, y_train, y_test = train_test_split(X_encoded, y, test_size=0.2, random_state=42)\n"
   ]
  },
  {
   "cell_type": "code",
   "execution_count": 5,
   "id": "4633211c",
   "metadata": {},
   "outputs": [
    {
     "data": {
      "text/html": [
       "<style>#sk-container-id-1 {color: black;background-color: white;}#sk-container-id-1 pre{padding: 0;}#sk-container-id-1 div.sk-toggleable {background-color: white;}#sk-container-id-1 label.sk-toggleable__label {cursor: pointer;display: block;width: 100%;margin-bottom: 0;padding: 0.3em;box-sizing: border-box;text-align: center;}#sk-container-id-1 label.sk-toggleable__label-arrow:before {content: \"▸\";float: left;margin-right: 0.25em;color: #696969;}#sk-container-id-1 label.sk-toggleable__label-arrow:hover:before {color: black;}#sk-container-id-1 div.sk-estimator:hover label.sk-toggleable__label-arrow:before {color: black;}#sk-container-id-1 div.sk-toggleable__content {max-height: 0;max-width: 0;overflow: hidden;text-align: left;background-color: #f0f8ff;}#sk-container-id-1 div.sk-toggleable__content pre {margin: 0.2em;color: black;border-radius: 0.25em;background-color: #f0f8ff;}#sk-container-id-1 input.sk-toggleable__control:checked~div.sk-toggleable__content {max-height: 200px;max-width: 100%;overflow: auto;}#sk-container-id-1 input.sk-toggleable__control:checked~label.sk-toggleable__label-arrow:before {content: \"▾\";}#sk-container-id-1 div.sk-estimator input.sk-toggleable__control:checked~label.sk-toggleable__label {background-color: #d4ebff;}#sk-container-id-1 div.sk-label input.sk-toggleable__control:checked~label.sk-toggleable__label {background-color: #d4ebff;}#sk-container-id-1 input.sk-hidden--visually {border: 0;clip: rect(1px 1px 1px 1px);clip: rect(1px, 1px, 1px, 1px);height: 1px;margin: -1px;overflow: hidden;padding: 0;position: absolute;width: 1px;}#sk-container-id-1 div.sk-estimator {font-family: monospace;background-color: #f0f8ff;border: 1px dotted black;border-radius: 0.25em;box-sizing: border-box;margin-bottom: 0.5em;}#sk-container-id-1 div.sk-estimator:hover {background-color: #d4ebff;}#sk-container-id-1 div.sk-parallel-item::after {content: \"\";width: 100%;border-bottom: 1px solid gray;flex-grow: 1;}#sk-container-id-1 div.sk-label:hover label.sk-toggleable__label {background-color: #d4ebff;}#sk-container-id-1 div.sk-serial::before {content: \"\";position: absolute;border-left: 1px solid gray;box-sizing: border-box;top: 0;bottom: 0;left: 50%;z-index: 0;}#sk-container-id-1 div.sk-serial {display: flex;flex-direction: column;align-items: center;background-color: white;padding-right: 0.2em;padding-left: 0.2em;position: relative;}#sk-container-id-1 div.sk-item {position: relative;z-index: 1;}#sk-container-id-1 div.sk-parallel {display: flex;align-items: stretch;justify-content: center;background-color: white;position: relative;}#sk-container-id-1 div.sk-item::before, #sk-container-id-1 div.sk-parallel-item::before {content: \"\";position: absolute;border-left: 1px solid gray;box-sizing: border-box;top: 0;bottom: 0;left: 50%;z-index: -1;}#sk-container-id-1 div.sk-parallel-item {display: flex;flex-direction: column;z-index: 1;position: relative;background-color: white;}#sk-container-id-1 div.sk-parallel-item:first-child::after {align-self: flex-end;width: 50%;}#sk-container-id-1 div.sk-parallel-item:last-child::after {align-self: flex-start;width: 50%;}#sk-container-id-1 div.sk-parallel-item:only-child::after {width: 0;}#sk-container-id-1 div.sk-dashed-wrapped {border: 1px dashed gray;margin: 0 0.4em 0.5em 0.4em;box-sizing: border-box;padding-bottom: 0.4em;background-color: white;}#sk-container-id-1 div.sk-label label {font-family: monospace;font-weight: bold;display: inline-block;line-height: 1.2em;}#sk-container-id-1 div.sk-label-container {text-align: center;}#sk-container-id-1 div.sk-container {/* jupyter's `normalize.less` sets `[hidden] { display: none; }` but bootstrap.min.css set `[hidden] { display: none !important; }` so we also need the `!important` here to be able to override the default hidden behavior on the sphinx rendered scikit-learn.org. See: https://github.com/scikit-learn/scikit-learn/issues/21755 */display: inline-block !important;position: relative;}#sk-container-id-1 div.sk-text-repr-fallback {display: none;}</style><div id=\"sk-container-id-1\" class=\"sk-top-container\"><div class=\"sk-text-repr-fallback\"><pre>KNeighborsClassifier(n_neighbors=3)</pre><b>In a Jupyter environment, please rerun this cell to show the HTML representation or trust the notebook. <br />On GitHub, the HTML representation is unable to render, please try loading this page with nbviewer.org.</b></div><div class=\"sk-container\" hidden><div class=\"sk-item\"><div class=\"sk-estimator sk-toggleable\"><input class=\"sk-toggleable__control sk-hidden--visually\" id=\"sk-estimator-id-1\" type=\"checkbox\" checked><label for=\"sk-estimator-id-1\" class=\"sk-toggleable__label sk-toggleable__label-arrow\">KNeighborsClassifier</label><div class=\"sk-toggleable__content\"><pre>KNeighborsClassifier(n_neighbors=3)</pre></div></div></div></div></div>"
      ],
      "text/plain": [
       "KNeighborsClassifier(n_neighbors=3)"
      ]
     },
     "execution_count": 5,
     "metadata": {},
     "output_type": "execute_result"
    }
   ],
   "source": [
    "raw_material_classifier = KNeighborsClassifier(n_neighbors=3)\n",
    "raw_material_classifier.fit(X_train, y_train[\"Raw Material\"])\n",
    "\n",
    "company_classifier = KNeighborsClassifier(n_neighbors=3)\n",
    "company_classifier.fit(X_train, y_train[\"Company\"])\n"
   ]
  },
  {
   "cell_type": "code",
   "execution_count": 6,
   "id": "50f08ffe",
   "metadata": {
    "scrolled": true
   },
   "outputs": [
    {
     "name": "stdout",
     "output_type": "stream",
     "text": [
      "Raw Material Classification Report:\n",
      "                             precision    recall  f1-score   support\n",
      "\n",
      "         Aerobic composting       0.00      0.00      0.00       0.0\n",
      "      Aluminum electrolysis       0.00      0.00      0.00       0.0\n",
      "                    Bauxite       0.00      0.00      0.00       0.0\n",
      "                  Cast iron       0.00      0.00      0.00       1.0\n",
      "                Cement mill       0.00      0.00      0.00       1.0\n",
      "                    Compost       0.00      0.00      0.00       0.0\n",
      "                   Iron ore       0.00      0.00      0.00       2.0\n",
      "             Lead recycling       0.00      0.00      0.00       1.0\n",
      "       Recycled electronics       0.00      0.00      0.00       1.0\n",
      "             Recycled glass       0.00      0.00      0.00       0.0\n",
      "           Recycled plastic       0.00      0.00      0.00       2.0\n",
      "             Rubber product       0.00      0.00      0.00       1.0\n",
      "             Virgin plastic       0.00      0.00      0.00       0.0\n",
      " Wastewater treatment plant       0.00      0.00      0.00       2.0\n",
      "              Aluminum cans       0.00      0.00      0.00       1.0\n",
      "                     Biogas       0.00      0.00      0.00       0.0\n",
      "                     Cement       0.00      0.00      0.00       1.0\n",
      "       Chemical fertilizers       0.00      0.00      0.00       1.0\n",
      "      Electronic appliances       0.00      0.00      0.00       0.0\n",
      "                Fertilizers       0.00      0.00      0.00       1.0\n",
      "                 Fiberglass       0.00      0.00      0.00       0.0\n",
      "              Particleboard       0.00      0.00      0.00       1.0\n",
      "             Recycled tires       0.00      0.00      0.00       1.0\n",
      "              Stained glass       0.00      0.00      0.00       1.0\n",
      "            Textile fabrics       0.00      0.00      0.00       1.0\n",
      "\n",
      "                   accuracy                           0.00      19.0\n",
      "                  macro avg       0.00      0.00      0.00      19.0\n",
      "               weighted avg       0.00      0.00      0.00      19.0\n",
      "\n",
      "Company Classification Report:\n",
      "                               precision    recall  f1-score   support\n",
      "\n",
      "                      BCD Inc       0.00      0.00      0.00         1\n",
      "                      CDE Inc       0.00      0.00      0.00         0\n",
      "                      DEF Inc       0.00      0.00      0.00         1\n",
      "               EFG Industries       0.00      0.00      0.00         0\n",
      "               GHI Industries       0.00      0.00      0.00         0\n",
      "                     HIJ Corp       0.00      0.00      0.00         1\n",
      "                     JKL Corp       0.00      0.00      0.00         1\n",
      "               KLM Industries       0.00      0.00      0.00         1\n",
      "                      LMN Inc       0.00      0.00      0.00         1\n",
      "                     NOP Corp       0.00      0.00      0.00         1\n",
      "               OPQ Industries       0.00      0.00      0.00         0\n",
      "               XYZ Industries       0.00      0.00      0.00         2\n",
      "                     YZA Corp       0.00      0.00      0.00         1\n",
      "               ZAB Industries       0.00      0.00      0.00         1\n",
      "                 ABC Textiles       1.00      1.00      1.00         1\n",
      "          Acid Solutions Inc.       0.00      0.00      0.00         0\n",
      "         Agro-Chem Industries       0.00      0.00      0.00         1\n",
      "            Alcoa Corporation       0.00      0.00      0.00         1\n",
      "           Artisan Glassworks       0.00      0.00      0.00         1\n",
      "       Cement Industries Inc.       0.00      0.00      0.00         1\n",
      "         Dyeing Solutions LLC       0.00      0.00      0.00         0\n",
      "   Electronics Solutions Inc.       0.00      0.00      0.00         0\n",
      "   Fertilizer Industries Inc.       0.00      0.00      0.00         1\n",
      "Particleboard Industries Inc.       0.00      0.00      0.00         1\n",
      "      Recycled Tire Solutions       0.00      0.00      0.00         1\n",
      "\n",
      "                     accuracy                           0.05        19\n",
      "                    macro avg       0.04      0.04      0.04        19\n",
      "                 weighted avg       0.05      0.05      0.05        19\n",
      "\n"
     ]
    },
    {
     "name": "stderr",
     "output_type": "stream",
     "text": [
      "/home/amal/.local/lib/python3.10/site-packages/sklearn/metrics/_classification.py:1344: UndefinedMetricWarning: Precision and F-score are ill-defined and being set to 0.0 in labels with no predicted samples. Use `zero_division` parameter to control this behavior.\n",
      "  _warn_prf(average, modifier, msg_start, len(result))\n",
      "/home/amal/.local/lib/python3.10/site-packages/sklearn/metrics/_classification.py:1344: UndefinedMetricWarning: Recall and F-score are ill-defined and being set to 0.0 in labels with no true samples. Use `zero_division` parameter to control this behavior.\n",
      "  _warn_prf(average, modifier, msg_start, len(result))\n",
      "/home/amal/.local/lib/python3.10/site-packages/sklearn/metrics/_classification.py:1344: UndefinedMetricWarning: Precision and F-score are ill-defined and being set to 0.0 in labels with no predicted samples. Use `zero_division` parameter to control this behavior.\n",
      "  _warn_prf(average, modifier, msg_start, len(result))\n",
      "/home/amal/.local/lib/python3.10/site-packages/sklearn/metrics/_classification.py:1344: UndefinedMetricWarning: Recall and F-score are ill-defined and being set to 0.0 in labels with no true samples. Use `zero_division` parameter to control this behavior.\n",
      "  _warn_prf(average, modifier, msg_start, len(result))\n",
      "/home/amal/.local/lib/python3.10/site-packages/sklearn/metrics/_classification.py:1344: UndefinedMetricWarning: Precision and F-score are ill-defined and being set to 0.0 in labels with no predicted samples. Use `zero_division` parameter to control this behavior.\n",
      "  _warn_prf(average, modifier, msg_start, len(result))\n",
      "/home/amal/.local/lib/python3.10/site-packages/sklearn/metrics/_classification.py:1344: UndefinedMetricWarning: Recall and F-score are ill-defined and being set to 0.0 in labels with no true samples. Use `zero_division` parameter to control this behavior.\n",
      "  _warn_prf(average, modifier, msg_start, len(result))\n",
      "/home/amal/.local/lib/python3.10/site-packages/sklearn/metrics/_classification.py:1344: UndefinedMetricWarning: Precision and F-score are ill-defined and being set to 0.0 in labels with no predicted samples. Use `zero_division` parameter to control this behavior.\n",
      "  _warn_prf(average, modifier, msg_start, len(result))\n",
      "/home/amal/.local/lib/python3.10/site-packages/sklearn/metrics/_classification.py:1344: UndefinedMetricWarning: Recall and F-score are ill-defined and being set to 0.0 in labels with no true samples. Use `zero_division` parameter to control this behavior.\n",
      "  _warn_prf(average, modifier, msg_start, len(result))\n",
      "/home/amal/.local/lib/python3.10/site-packages/sklearn/metrics/_classification.py:1344: UndefinedMetricWarning: Precision and F-score are ill-defined and being set to 0.0 in labels with no predicted samples. Use `zero_division` parameter to control this behavior.\n",
      "  _warn_prf(average, modifier, msg_start, len(result))\n",
      "/home/amal/.local/lib/python3.10/site-packages/sklearn/metrics/_classification.py:1344: UndefinedMetricWarning: Recall and F-score are ill-defined and being set to 0.0 in labels with no true samples. Use `zero_division` parameter to control this behavior.\n",
      "  _warn_prf(average, modifier, msg_start, len(result))\n",
      "/home/amal/.local/lib/python3.10/site-packages/sklearn/metrics/_classification.py:1344: UndefinedMetricWarning: Precision and F-score are ill-defined and being set to 0.0 in labels with no predicted samples. Use `zero_division` parameter to control this behavior.\n",
      "  _warn_prf(average, modifier, msg_start, len(result))\n",
      "/home/amal/.local/lib/python3.10/site-packages/sklearn/metrics/_classification.py:1344: UndefinedMetricWarning: Recall and F-score are ill-defined and being set to 0.0 in labels with no true samples. Use `zero_division` parameter to control this behavior.\n",
      "  _warn_prf(average, modifier, msg_start, len(result))\n"
     ]
    }
   ],
   "source": [
    "raw_material_pred = raw_material_classifier.predict(X_test)\n",
    "company_pred = company_classifier.predict(X_test)\n",
    "\n",
    "print(\"Raw Material Classification Report:\")\n",
    "print(classification_report(y_test[\"Raw Material\"], raw_material_pred))\n",
    "\n",
    "print(\"Company Classification Report:\")\n",
    "print(classification_report(y_test[\"Company\"], company_pred))\n"
   ]
  },
  {
   "cell_type": "code",
   "execution_count": 7,
   "id": "0ea9e7b7",
   "metadata": {},
   "outputs": [
    {
     "name": "stdout",
     "output_type": "stream",
     "text": [
      "Predicted Raw Material:  Cast iron\n",
      "Predicted Company Name:  EFG Industries\n"
     ]
    }
   ],
   "source": [
    "new_data = pd.DataFrame({\"By-Product\": [\"Aluminum scrap\"], \"Similarity\": [0.368]})\n",
    "new_data_encoded = pd.get_dummies(new_data, columns=[\"By-Product\"])\n",
    "\n",
    "# Reorder the columns to match the order in the training data\n",
    "new_data_encoded = new_data_encoded.reindex(columns=X_train.columns, fill_value=0)\n",
    "new_data_encoded[\"Similarity\"] = scaler.transform(new_data_encoded[\"Similarity\"].values.reshape(-1, 1))\n",
    "\n",
    "raw_material_prediction = raw_material_classifier.predict(new_data_encoded)\n",
    "company_prediction = company_classifier.predict(new_data_encoded)\n",
    "\n",
    "print(\"Predicted Raw Material: {}\".format(raw_material_prediction[0]))\n",
    "print(\"Predicted Company Name: {}\".format(company_prediction[0]))\n"
   ]
  },
  {
   "cell_type": "code",
   "execution_count": 8,
   "id": "29f7fb49",
   "metadata": {},
   "outputs": [
    {
     "ename": "NameError",
     "evalue": "name 'accuracy_score' is not defined",
     "output_type": "error",
     "traceback": [
      "\u001b[0;31m---------------------------------------------------------------------------\u001b[0m",
      "\u001b[0;31mNameError\u001b[0m                                 Traceback (most recent call last)",
      "Cell \u001b[0;32mIn[8], line 1\u001b[0m\n\u001b[0;32m----> 1\u001b[0m raw_material_accuracy \u001b[38;5;241m=\u001b[39m \u001b[43maccuracy_score\u001b[49m(y_test[\u001b[38;5;124m\"\u001b[39m\u001b[38;5;124mRaw Material\u001b[39m\u001b[38;5;124m\"\u001b[39m], raw_material_pred)\n\u001b[1;32m      2\u001b[0m company_accuracy \u001b[38;5;241m=\u001b[39m accuracy_score(y_test[\u001b[38;5;124m\"\u001b[39m\u001b[38;5;124mCompany\u001b[39m\u001b[38;5;124m\"\u001b[39m], company_pred)\n\u001b[1;32m      4\u001b[0m \u001b[38;5;28mprint\u001b[39m(\u001b[38;5;124m\"\u001b[39m\u001b[38;5;124mRaw Material Accuracy: \u001b[39m\u001b[38;5;132;01m{:.2f}\u001b[39;00m\u001b[38;5;124m\"\u001b[39m\u001b[38;5;241m.\u001b[39mformat(raw_material_accuracy))\n",
      "\u001b[0;31mNameError\u001b[0m: name 'accuracy_score' is not defined"
     ]
    }
   ],
   "source": [
    "raw_material_accuracy = accuracy_score(y_test[\"Raw Material\"], raw_material_pred)\n",
    "company_accuracy = accuracy_score(y_test[\"Company\"], company_pred)\n",
    "\n",
    "print(\"Raw Material Accuracy: {:.2f}\".format(raw_material_accuracy))\n",
    "print(\"Company Accuracy: {:.2f}\".format(company_accuracy))\n"
   ]
  },
  {
   "cell_type": "code",
   "execution_count": null,
   "id": "39653548",
   "metadata": {},
   "outputs": [],
   "source": []
  },
  {
   "cell_type": "code",
   "execution_count": null,
   "id": "90f39858",
   "metadata": {},
   "outputs": [],
   "source": []
  },
  {
   "cell_type": "code",
   "execution_count": null,
   "id": "531263e6",
   "metadata": {},
   "outputs": [],
   "source": []
  },
  {
   "cell_type": "code",
   "execution_count": null,
   "id": "09e7ee6d",
   "metadata": {},
   "outputs": [],
   "source": []
  },
  {
   "cell_type": "code",
   "execution_count": null,
   "id": "f1a4dcb9",
   "metadata": {},
   "outputs": [],
   "source": []
  },
  {
   "cell_type": "code",
   "execution_count": null,
   "id": "5d2e70db",
   "metadata": {},
   "outputs": [],
   "source": []
  },
  {
   "cell_type": "code",
   "execution_count": null,
   "id": "c6d846d3",
   "metadata": {},
   "outputs": [],
   "source": []
  },
  {
   "cell_type": "code",
   "execution_count": null,
   "id": "76f9bb1a",
   "metadata": {},
   "outputs": [],
   "source": []
  },
  {
   "cell_type": "code",
   "execution_count": null,
   "id": "8ab566e7",
   "metadata": {},
   "outputs": [],
   "source": []
  },
  {
   "cell_type": "code",
   "execution_count": null,
   "id": "ec915e8e",
   "metadata": {},
   "outputs": [],
   "source": []
  },
  {
   "cell_type": "code",
   "execution_count": null,
   "id": "2b4224d0",
   "metadata": {},
   "outputs": [],
   "source": []
  }
 ],
 "metadata": {
  "kernelspec": {
   "display_name": "Python 3 (ipykernel)",
   "language": "python",
   "name": "python3"
  },
  "language_info": {
   "codemirror_mode": {
    "name": "ipython",
    "version": 3
   },
   "file_extension": ".py",
   "mimetype": "text/x-python",
   "name": "python",
   "nbconvert_exporter": "python",
   "pygments_lexer": "ipython3",
   "version": "3.10.10"
  }
 },
 "nbformat": 4,
 "nbformat_minor": 5
}
